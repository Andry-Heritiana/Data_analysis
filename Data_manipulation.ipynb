{
 "cells": [
  {
   "cell_type": "code",
   "execution_count": 1,
   "metadata": {},
   "outputs": [
    {
     "ename": "SyntaxError",
     "evalue": "Missing parentheses in call to 'print'. Did you mean print(enrollment_num_rows)? (<ipython-input-1-d21c523bef95>, line 25)",
     "output_type": "error",
     "traceback": [
      "\u001b[0;36m  File \u001b[0;32m\"<ipython-input-1-d21c523bef95>\"\u001b[0;36m, line \u001b[0;32m25\u001b[0m\n\u001b[0;31m    print enrollment_num_rows\u001b[0m\n\u001b[0m                            ^\u001b[0m\n\u001b[0;31mSyntaxError\u001b[0m\u001b[0;31m:\u001b[0m Missing parentheses in call to 'print'. Did you mean print(enrollment_num_rows)?\n"
     ]
    }
   ],
   "source": [
    "import unicodecsv\n",
    "\n",
    "def read_csv(filename):\n",
    "    with open(filename, 'rb') as f:\n",
    "        reader = unicodecsv.DictReader(f)\n",
    "        return list(reader)\n",
    "\n",
    "enrollments = read_csv('enrollments.csv')\n",
    "daily_engagement = read_csv('daily_engagement.csv')\n",
    "project_submissions = read_csv('project_submissions.csv')\n",
    "    \n",
    "### For each of these three tables, find the number of rows in the table and\n",
    "### the number of unique students in the table. To find the number of unique\n",
    "### students, you might want to create a set of the account keys in each table.\n",
    "\n",
    "unique_enrollment = set()\n",
    "for enrollment in enrollments :\n",
    "    unique_enrollment.add(enrollment['account_key'])\n",
    "\n",
    "\n",
    "enrollment_num_rows = len(enrollments) # Replace this with your code\n",
    "enrollment_num_unique_students = len(unique_enrollment) # Replace this with your code\n",
    "\n",
    "\n",
    "print enrollment_num_rows\n",
    "print enrollment_num_unique_students\n",
    "\n",
    "unique_engagement = set()\n",
    "for engagement_record in daily_engagement:\n",
    "    unique_engagement.add(engagement_record['acct']) \n",
    "    \n",
    "    \n",
    "engagement_num_rows = len(daily_engagement)            # Replace this with your code\n",
    "engagement_num_unique_students = len(unique_engagement) # Replace this with your code\n",
    "\n",
    "print engagement_num_rows\n",
    "print engagement_num_unique_students \n",
    "\n",
    "\n",
    "num_submission = set()\n",
    "for submission in project_submissions:\n",
    "    num_submission.add(submission['account_key']) \n",
    "\n",
    "\n",
    "submission_num_rows = len(project_submissions)            # Replace this with your code\n",
    "submission_num_unique_students =len(num_submission) # Replace this with your code\n",
    "\n",
    "\n",
    "print submission_num_rows \n",
    "print submission_num_unique_students\n",
    "\n",
    "\n",
    "for engagement_record in daily_engagement:\n",
    "    engagement_record['account_key'] = engagement_record['acct']\n",
    "del(engagement_record['acct'])\n",
    "    \n",
    "print daily_engagement[0]['account_key']\n",
    "\n",
    "\n",
    "\n",
    "for enrollment in enrollments :\n",
    "    student  = enrollment['account_key']\n",
    "    if student not in unique_engagement:\n",
    "        print enrollment\n",
    "        break\n",
    "\n",
    "num_problem_students = 0\n",
    "for enrollment in enrollments :\n",
    "    student  = enrollment['account_key']\n",
    "    if student not in unique_engagement and enrollment['join_date']!= enrollment['cancel_date']:\n",
    "         num_problem_students += 1\n",
    "\n",
    "print num_problem_students \n",
    "    \n"
   ]
  },
  {
   "cell_type": "markdown",
   "metadata": {},
   "source": [
    "CSVs in Python"
   ]
  },
  {
   "cell_type": "code",
   "execution_count": 2,
   "metadata": {},
   "outputs": [],
   "source": [
    "import unicodecsv\n",
    "\n",
    "def read_csv(filename):\n",
    "    with open(filename, 'rb') as f:\n",
    "        reader = unicodecsv.DictReader(f)\n",
    "        return list(reader)\n",
    "\n",
    "enrollments = read_csv('enrollments.csv')\n",
    "daily_engagement = read_csv('daily_engagement.csv')\n",
    "project_submissions = read_csv('project_submissions.csv')"
   ]
  },
  {
   "cell_type": "markdown",
   "metadata": {},
   "source": [
    "Investigating the Data"
   ]
  },
  {
   "cell_type": "code",
   "execution_count": 3,
   "metadata": {},
   "outputs": [
    {
     "ename": "KeyError",
     "evalue": "'acct'",
     "output_type": "error",
     "traceback": [
      "\u001b[0;31m---------------------------------------------------------------------------\u001b[0m",
      "\u001b[0;31mKeyError\u001b[0m                                  Traceback (most recent call last)",
      "\u001b[0;32m<ipython-input-3-ab015b8ecd5c>\u001b[0m in \u001b[0;36m<module>\u001b[0;34m()\u001b[0m\n\u001b[1;32m     10\u001b[0m \u001b[0munique_engagement_students\u001b[0m \u001b[0;34m=\u001b[0m \u001b[0mset\u001b[0m\u001b[0;34m(\u001b[0m\u001b[0;34m)\u001b[0m\u001b[0;34m\u001b[0m\u001b[0;34m\u001b[0m\u001b[0m\n\u001b[1;32m     11\u001b[0m \u001b[0;32mfor\u001b[0m \u001b[0mengagement_record\u001b[0m \u001b[0;32min\u001b[0m \u001b[0mdaily_engagement\u001b[0m\u001b[0;34m:\u001b[0m\u001b[0;34m\u001b[0m\u001b[0;34m\u001b[0m\u001b[0m\n\u001b[0;32m---> 12\u001b[0;31m     \u001b[0munique_engagement_students\u001b[0m\u001b[0;34m.\u001b[0m\u001b[0madd\u001b[0m\u001b[0;34m(\u001b[0m\u001b[0mengagement_record\u001b[0m\u001b[0;34m[\u001b[0m\u001b[0;34m'acct'\u001b[0m\u001b[0;34m]\u001b[0m\u001b[0;34m)\u001b[0m\u001b[0;34m\u001b[0m\u001b[0;34m\u001b[0m\u001b[0m\n\u001b[0m\u001b[1;32m     13\u001b[0m \u001b[0mlen\u001b[0m\u001b[0;34m(\u001b[0m\u001b[0munique_engagement_students\u001b[0m\u001b[0;34m)\u001b[0m\u001b[0;34m\u001b[0m\u001b[0;34m\u001b[0m\u001b[0m\n\u001b[1;32m     14\u001b[0m \u001b[0;34m\u001b[0m\u001b[0m\n",
      "\u001b[0;31mKeyError\u001b[0m: 'acct'"
     ]
    }
   ],
   "source": [
    "len(enrollments)\n",
    "\n",
    "unique_enrolled_students = set()\n",
    "for enrollment in enrollments:\n",
    "    unique_enrolled_students.add(enrollment['account_key'])\n",
    "len(unique_enrolled_students)\n",
    "\n",
    "len(daily_engagement)\n",
    "\n",
    "unique_engagement_students = set()\n",
    "for engagement_record in daily_engagement:\n",
    "    unique_engagement_students.add(engagement_record['acct'])\n",
    "len(unique_engagement_students)\n",
    "\n",
    "len(project_submissions)\n",
    "\n",
    "unique_project_submitters = set()\n",
    "for submission in project_submissions:\n",
    "    unique_project_submitters.add(submission['account_key'])\n",
    "len(unique_project_submitters)"
   ]
  },
  {
   "cell_type": "markdown",
   "metadata": {},
   "source": [
    "Problems in the Data"
   ]
  },
  {
   "cell_type": "code",
   "execution_count": 4,
   "metadata": {},
   "outputs": [
    {
     "ename": "KeyError",
     "evalue": "'acct'",
     "output_type": "error",
     "traceback": [
      "\u001b[0;31m---------------------------------------------------------------------------\u001b[0m",
      "\u001b[0;31mKeyError\u001b[0m                                  Traceback (most recent call last)",
      "\u001b[0;32m<ipython-input-4-b05236702cf3>\u001b[0m in \u001b[0;36m<module>\u001b[0;34m()\u001b[0m\n\u001b[1;32m      1\u001b[0m \u001b[0;32mfor\u001b[0m \u001b[0mengagement_record\u001b[0m \u001b[0;32min\u001b[0m \u001b[0mdaily_engagement\u001b[0m\u001b[0;34m:\u001b[0m\u001b[0;34m\u001b[0m\u001b[0;34m\u001b[0m\u001b[0m\n\u001b[0;32m----> 2\u001b[0;31m     \u001b[0mengagement_record\u001b[0m\u001b[0;34m[\u001b[0m\u001b[0;34m'account_key'\u001b[0m\u001b[0;34m]\u001b[0m \u001b[0;34m=\u001b[0m \u001b[0mengagement_record\u001b[0m\u001b[0;34m[\u001b[0m\u001b[0;34m'acct'\u001b[0m\u001b[0;34m]\u001b[0m\u001b[0;34m\u001b[0m\u001b[0;34m\u001b[0m\u001b[0m\n\u001b[0m\u001b[1;32m      3\u001b[0m     \u001b[0;32mdel\u001b[0m\u001b[0;34m[\u001b[0m\u001b[0mengagement_record\u001b[0m\u001b[0;34m[\u001b[0m\u001b[0;34m'acct'\u001b[0m\u001b[0;34m]\u001b[0m\u001b[0;34m]\u001b[0m\u001b[0;34m\u001b[0m\u001b[0;34m\u001b[0m\u001b[0m\n",
      "\u001b[0;31mKeyError\u001b[0m: 'acct'"
     ]
    }
   ],
   "source": [
    "for engagement_record in daily_engagement:\n",
    "    engagement_record['account_key'] = engagement_record['acct']\n",
    "    del[engagement_record['acct']]"
   ]
  },
  {
   "cell_type": "markdown",
   "metadata": {},
   "source": [
    "Missing engagement records"
   ]
  },
  {
   "cell_type": "code",
   "execution_count": 5,
   "metadata": {},
   "outputs": [
    {
     "ename": "SyntaxError",
     "evalue": "Missing parentheses in call to 'print'. Did you mean print(enrollment)? (<ipython-input-5-6dce1b1b710d>, line 4)",
     "output_type": "error",
     "traceback": [
      "\u001b[0;36m  File \u001b[0;32m\"<ipython-input-5-6dce1b1b710d>\"\u001b[0;36m, line \u001b[0;32m4\u001b[0m\n\u001b[0;31m    print enrollment\u001b[0m\n\u001b[0m                   ^\u001b[0m\n\u001b[0;31mSyntaxError\u001b[0m\u001b[0;31m:\u001b[0m Missing parentheses in call to 'print'. Did you mean print(enrollment)?\n"
     ]
    }
   ],
   "source": [
    "for enrollment in enrollments:\n",
    "    student = enrollment['account_key']\n",
    "    if student not in unique_engagement_students:\n",
    "        print enrollment\n",
    "        break\n"
   ]
  },
  {
   "cell_type": "markdown",
   "metadata": {},
   "source": [
    "Checking for more problem records"
   ]
  },
  {
   "cell_type": "code",
   "execution_count": null,
   "metadata": {},
   "outputs": [],
   "source": [
    "num_problem_students = 0\n",
    "for enrollment in enrollments:\n",
    "    student = enrollment['account_key']\n",
    "    if (student not in unique_engagement_students and \n",
    "            enrollment['join_date'] != enrollment['cancel_date']):\n",
    "        print enrollment\n",
    "        num_problem_students += 1\n",
    "\n",
    "num_problem_students"
   ]
  },
  {
   "cell_type": "markdown",
   "metadata": {},
   "source": [
    "Refining the Question"
   ]
  },
  {
   "cell_type": "code",
   "execution_count": null,
   "metadata": {},
   "outputs": [],
   "source": [
    "paid_students = {}\n",
    "for enrollment in non_udacity_enrollments:\n",
    "    if (not enrollment['is_canceled'] or\n",
    "            enrollment['days_to_cancel'] > 7):\n",
    "        account_key = enrollment['account_key']\n",
    "        enrollment_date = enrollment['join_date']\n",
    "        if (account_key not in paid_students or\n",
    "                enrollment_date > paid_students[account_key]):\n",
    "            paid_students[account_key] = enrollment_date\n",
    "len(paid_students)"
   ]
  },
  {
   "cell_type": "markdown",
   "metadata": {},
   "source": [
    "Note that if you switch the order of the second if statement like so"
   ]
  },
  {
   "cell_type": "code",
   "execution_count": null,
   "metadata": {},
   "outputs": [],
   "source": [
    "if (enrollment_date > paid_students[account_key] or \n",
    "account_key not in paid_students)"
   ]
  },
  {
   "cell_type": "markdown",
   "metadata": {},
   "source": [
    "Getting Data from First Week"
   ]
  },
  {
   "cell_type": "code",
   "execution_count": null,
   "metadata": {},
   "outputs": [],
   "source": [
    "def within_one_week(join_date, engagement_date):\n",
    "    time_delta = engagement_date - join_date\n",
    "    return time_delta.days < 7\n",
    "\n",
    "def remove_free_trial_cancels(data):\n",
    "    new_data = []\n",
    "    for data_point in data:\n",
    "        if data_point['account_key'] in paid_students:\n",
    "            new_data.append(data_point)\n",
    "    return new_data\n",
    "\n",
    "paid_enrollments = remove_free_trial_cancels(non_udacity_enrollments)\n",
    "paid_engagement = remove_free_trial_cancels(non_udacity_engagement)\n",
    "paid_submissions = remove_free_trial_cancels(non_udacity_submissions)\n",
    "\n",
    "print len(paid_enrollments)\n",
    "print len(paid_engagement)\n",
    "print len(paid_submissions)\n",
    "\n",
    "paid_engagement_in_first_week = []\n",
    "for engagement_record in paid_engagement:\n",
    "    account_key = engagement_record['account_key']\n",
    "    join_date = paid_students[account_key]\n",
    "    engagement_record_date = engagement_record['utc_date']\n",
    "\n",
    "    if within_one_week(join_date, engagement_record_date):\n",
    "         paid_engagement_in_first_week.append(engagement_record)\n",
    "\n",
    "len(paid_engagement_in_first_week)"
   ]
  },
  {
   "cell_type": "markdown",
   "metadata": {},
   "source": [
    "Debugging Data Analysis Code"
   ]
  },
  {
   "cell_type": "code",
   "execution_count": null,
   "metadata": {},
   "outputs": [],
   "source": [
    "student_with_max_minutes = None\n",
    "max_minutes = 0\n",
    "\n",
    "for student, total_minutes in total_minutes_by_account.items():\n",
    "    if total_minutes > max_minutes:\n",
    "        max_minutes = total_minutes\n",
    "        student_with_max_minutes = student\n",
    "\n",
    "max_minutes\n",
    "\n",
    "for engagement_record in paid_engagement_in_first_week:\n",
    "    if engagement_record['account_key'] == student_with_max_minutes:\n",
    "        print engagement_record"
   ]
  },
  {
   "cell_type": "markdown",
   "metadata": {},
   "source": [
    "Fixing Bug in within_one_week()"
   ]
  },
  {
   "cell_type": "code",
   "execution_count": null,
   "metadata": {},
   "outputs": [],
   "source": [
    "def within_one_week(join_date, engagement_date):\n",
    "    time_delta = engagement_date - join_date\n",
    "    return time_delta.days >= 0 and time_delta.days < 7"
   ]
  },
  {
   "cell_type": "markdown",
   "metadata": {},
   "source": [
    "Lessons Completed in First Week"
   ]
  },
  {
   "cell_type": "code",
   "execution_count": null,
   "metadata": {},
   "outputs": [],
   "source": [
    "from collections import defaultdict\n",
    "\n",
    "def group_data(data, key_name):\n",
    "    grouped_data = defaultdict(list)\n",
    "    for data_point in data:\n",
    "        key = data_point[key_name]\n",
    "        grouped_data[key].append(data_point)\n",
    "    return grouped_data\n",
    "\n",
    "engagement_by_account = group_data(paid_engagement_in_first_week,\n",
    "                                   'account_key')\n",
    "\n",
    "def sum_grouped_items(grouped_data, field_name):\n",
    "    summed_data = {}\n",
    "    for key, data_points in grouped_data.items():\n",
    "        total = 0\n",
    "        for data_point in data_points:\n",
    "            total += data_point[field_name]\n",
    "        summed_data[key] = total\n",
    "    return summed_data\n",
    "\n",
    "total_minutes_by_account = sum_grouped_items(engagement_by_account,\n",
    "                                             'total_minutes_visited')\n",
    "\n",
    "import numpy as np\n",
    "\n",
    "def describe_data(data):\n",
    "    print 'Mean:', np.mean(data)\n",
    "    print 'Standard deviation:', np.std(data)\n",
    "    print 'Minimum:', np.min(data)\n",
    "    print 'Maximum:', np.max(data)\n",
    "\n",
    "describe_data(total_minutes_by_account.values())"
   ]
  },
  {
   "cell_type": "markdown",
   "metadata": {},
   "source": [
    "Then she called the functions she created to analyze the lessons completed in the first week as follows:"
   ]
  },
  {
   "cell_type": "code",
   "execution_count": null,
   "metadata": {},
   "outputs": [],
   "source": [
    "lessons_completed_by_account = sum_grouped_items(engagement_by_account,\n",
    "                                                 'lessons_completed')\n",
    "describe_data(lessons_completed_by_account.values())"
   ]
  },
  {
   "cell_type": "markdown",
   "metadata": {},
   "source": [
    "Number of Visits in the First Week"
   ]
  },
  {
   "cell_type": "code",
   "execution_count": null,
   "metadata": {},
   "outputs": [],
   "source": [
    "for engagement_record in paid_engagement:\n",
    "    if engagement_record['num_courses_visited'] > 0:\n",
    "        engagement_record['has_visited'] = 1\n",
    "    else:\n",
    "        engagement_record['has_visited'] = 0"
   ]
  },
  {
   "cell_type": "markdown",
   "metadata": {},
   "source": [
    "Then, after recreating the engagement_by_account dictionary with the updated data, she ran the following code to analyze days visited in the first week:"
   ]
  },
  {
   "cell_type": "code",
   "execution_count": null,
   "metadata": {},
   "outputs": [],
   "source": [
    "days_visited_by_account = sum_grouped_items(engagement_by_account,\n",
    "                                            'has_visited')\n",
    "describe_data(days_visited_by_account.values())"
   ]
  },
  {
   "cell_type": "markdown",
   "metadata": {},
   "source": [
    "Splitting out Passing Students"
   ]
  },
  {
   "cell_type": "code",
   "execution_count": null,
   "metadata": {},
   "outputs": [],
   "source": [
    "subway_project_lesson_keys = ['746169184', '3176718735']\n",
    "\n",
    "pass_subway_project = set()\n",
    "\n",
    "for submission in paid_submissions:\n",
    "    project = submission['lesson_key']\n",
    "    rating = submission['assigned_rating']    \n",
    "\n",
    "    if ((project in subway_project_lesson_keys) and\n",
    "            (rating == 'PASSED' or rating == 'DISTINCTION')):\n",
    "        pass_subway_project.add(submission['account_key'])\n",
    "\n",
    "len(pass_subway_project)\n",
    "\n",
    "passing_engagement = []\n",
    "non_passing_engagement = []\n",
    "\n",
    "for engagement_record in paid_engagement_in_first_week:\n",
    "    if engagement_record['account_key'] in pass_subway_project:\n",
    "        passing_engagement.append(engagement_record)\n",
    "    else:\n",
    "        non_passing_engagement.append(engagement_record)\n",
    "\n",
    "print len(passing_engagement)\n",
    "print len(non_passing_engagement)"
   ]
  },
  {
   "cell_type": "markdown",
   "metadata": {},
   "source": [
    "Comparing the Two Student Groups"
   ]
  },
  {
   "cell_type": "code",
   "execution_count": null,
   "metadata": {},
   "outputs": [],
   "source": [
    "passing_engagement_by_account = group_data(passing_engagement,\n",
    "                                           'account_key')\n",
    "non_passing_engagement_by_account = group_data(non_passing_engagement,\n",
    "                                               'account_key')\n",
    "\n",
    "print 'non-passing students:'\n",
    "non_passing_minutes = sum_grouped_items(\n",
    "    non_passing_engagement_by_account,\n",
    "    'total_minutes_visited'\n",
    ")\n",
    "describe_data(non_passing_minutes.values())\n",
    "​\n",
    "print 'passing students:'\n",
    "passing_minutes = sum_grouped_items(\n",
    "    passing_engagement_by_account,\n",
    "    'total_minutes_visited'\n",
    ")\n",
    "describe_data(passing_minutes.values())\n",
    "\n",
    "print 'non-passing students:'\n",
    "non_passing_lessons = sum_grouped_items(\n",
    "    non_passing_engagement_by_account,\n",
    "    'lessons_completed'\n",
    ")\n",
    "describe_data(non_passing_lessons.values())\n",
    "\n",
    "print 'passing students:'\n",
    "passing_lessons = sum_grouped_items(\n",
    "    passing_engagement_by_account,\n",
    "    'lessons_completed'\n",
    ")\n",
    "describe_data(passing_lessons.values())\n",
    "\n",
    "print 'non-passing students:'\n",
    "non_passing_visits = sum_grouped_items(\n",
    "    non_passing_engagement_by_account, \n",
    "    'has_visited'\n",
    ")\n",
    "describe_data(non_passing_visits.values())\n",
    "\n",
    "print 'passing students:'\n",
    "passing_visits = sum_grouped_items(\n",
    "    passing_engagement_by_account,\n",
    "    'has_visited'\n",
    ")\n",
    "describe_data(passing_visits.values())"
   ]
  },
  {
   "cell_type": "markdown",
   "metadata": {},
   "source": [
    "Making Histograms"
   ]
  },
  {
   "cell_type": "code",
   "execution_count": null,
   "metadata": {},
   "outputs": [],
   "source": [
    "%pylab inline\n",
    "\n",
    "import matplotlib.pyplot as plt\n",
    "import numpy as np\n",
    "\n",
    "# Summarize the given data\n",
    "def describe_data(data):\n",
    "    print 'Mean:', np.mean(data)\n",
    "    print 'Standard deviation:', np.std(data)\n",
    "    print 'Minimum:', np.min(data)\n",
    "    print 'Maximum:', np.max(data)\n",
    "    plt.hist(data)"
   ]
  },
  {
   "cell_type": "markdown",
   "metadata": {},
   "source": [
    "Improving Plots and Sharing Findings"
   ]
  },
  {
   "cell_type": "code",
   "execution_count": null,
   "metadata": {},
   "outputs": [],
   "source": [
    "import seaborn as sns\n",
    "\n",
    "plt.hist(non_passing_visits.values(), bins=8)\n",
    "plt.xlabel('Number of days')\n",
    "plt.title('Distribution of classroom visits in the first week ' + \n",
    "          'for students who do not pass the subway project')\n",
    "\n",
    "plt.hist(passing_visits.values(), bins=8)\n",
    "plt.xlabel('Number of days')\n",
    "plt.title('Distribution of classroom visits in the first week ' + \n",
    "          'for students who pass the subway project')"
   ]
  },
  {
   "cell_type": "code",
   "execution_count": null,
   "metadata": {},
   "outputs": [],
   "source": []
  }
 ],
 "metadata": {
  "kernelspec": {
   "display_name": "Python 3",
   "language": "python",
   "name": "python3"
  },
  "language_info": {
   "codemirror_mode": {
    "name": "ipython",
    "version": 3
   },
   "file_extension": ".py",
   "mimetype": "text/x-python",
   "name": "python",
   "nbconvert_exporter": "python",
   "pygments_lexer": "ipython3",
   "version": "3.7.3"
  }
 },
 "nbformat": 4,
 "nbformat_minor": 2
}
